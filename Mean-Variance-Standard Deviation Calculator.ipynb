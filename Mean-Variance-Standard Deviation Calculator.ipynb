{
 "cells": [
  {
   "cell_type": "code",
   "execution_count": 7,
   "metadata": {},
   "outputs": [
    {
     "name": "stdout",
     "output_type": "stream",
     "text": [
      "{'mean': [[3.0, 4.0, 5.0], [1.0, 4.0, 7.0], 4.0], 'variance': [[6.0, 6.0, 6.0], [0.6666666666666666, 0.6666666666666666, 0.6666666666666666], 6.666666666666667], 'standard deviation': [[2.449489742783178, 2.449489742783178, 2.449489742783178], [0.816496580927726, 0.816496580927726, 0.816496580927726], 2.581988897471611], 'max': [[6, 7, 8], [2, 5, 8], 8], 'min': [[0, 1, 2], [0, 3, 6], 0], 'sum': [[9, 12, 15], [3, 12, 21], 36]}\n"
     ]
    }
   ],
   "source": [
    "import numpy as np\n",
    "\n",
    "def calculate(list):\n",
    "    if len(list) != 9:\n",
    "        raise ValueError('List must contain nine numbers.')\n",
    "    else:\n",
    "        matrix = np.array(list).reshape(3, 3)\n",
    "\n",
    "    mean = [(matrix.mean(axis=0).tolist()), (matrix.mean(axis=1).tolist()),\n",
    "            (matrix.flatten().mean())]\n",
    "\n",
    "    var = [(matrix.var(axis=0).tolist()), (matrix.var(axis=1).tolist()),\n",
    "           (matrix.flatten().var())]\n",
    "\n",
    "    std = [(matrix.std(axis=0).tolist()), (matrix.std(axis=1).tolist()),\n",
    "           (matrix.flatten().std())]\n",
    "\n",
    "    max = [(matrix.max(axis=0).tolist()), (matrix.max(axis=1).tolist()),\n",
    "           (matrix.flatten().max())]\n",
    "\n",
    "    min = [(matrix.min(axis=0).tolist()), (matrix.min(axis=1).tolist()),\n",
    "           (matrix.flatten().min())]\n",
    "\n",
    "    sum = [(matrix.sum(axis=0).tolist()), (matrix.sum(axis=1).tolist()),\n",
    "           (matrix.flatten().sum())]\n",
    "\n",
    "    calculations = {\n",
    "        \"mean\": mean,\n",
    "        \"variance\": var,\n",
    "        \"standard deviation\": std,\n",
    "        \"max\": max,\n",
    "        \"min\": min,\n",
    "        \"sum\": sum,\n",
    "    }\n",
    "    return calculations\n",
    "    \n",
    "result = calculate([0,1,2,3,4,5,6,7,8])\n",
    "print(result)"
   ]
  },
  {
   "cell_type": "code",
   "execution_count": null,
   "metadata": {},
   "outputs": [],
   "source": []
  }
 ],
 "metadata": {
  "kernelspec": {
   "display_name": "Python 3",
   "language": "python",
   "name": "python3"
  },
  "language_info": {
   "codemirror_mode": {
    "name": "ipython",
    "version": 3
   },
   "file_extension": ".py",
   "mimetype": "text/x-python",
   "name": "python",
   "nbconvert_exporter": "python",
   "pygments_lexer": "ipython3",
   "version": "3.8.5"
  }
 },
 "nbformat": 4,
 "nbformat_minor": 4
}
